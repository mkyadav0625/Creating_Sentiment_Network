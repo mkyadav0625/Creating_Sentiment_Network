{
 "cells": [
  {
   "cell_type": "markdown",
   "metadata": {},
   "source": [
    "# Project 1:  Reading & getting familiar with the data"
   ]
  },
  {
   "cell_type": "code",
   "execution_count": 1,
   "metadata": {},
   "outputs": [],
   "source": [
    "# What we know!\n",
    "g = open('reviews.txt','r') \n",
    "reviews = list(map(lambda x:x[:-1],g.readlines()))\n",
    "g.close()\n",
    "\n",
    "# What we WANT to know!\n",
    "g = open('labels.txt','r') \n",
    "labels = list(map(lambda x:x[:-1].upper(),g.readlines()))\n",
    "g.close()"
   ]
  },
  {
   "cell_type": "markdown",
   "metadata": {},
   "source": [
    "Note: The data in reviews.txt we're using has already been preprocessed a bit and contains only lower case characters. If we were working from raw data, where we didn't know it was all lower case, we would want to add a step here to convert it. That's so we treat different variations of the same word, like The, the, and THE, all the same way."
   ]
  },
  {
   "cell_type": "code",
   "execution_count": 2,
   "metadata": {},
   "outputs": [
    {
     "data": {
      "text/plain": [
       "25000"
      ]
     },
     "execution_count": 2,
     "metadata": {},
     "output_type": "execute_result"
    }
   ],
   "source": [
    "#size of reviews list\n",
    "len(reviews)"
   ]
  },
  {
   "cell_type": "code",
   "execution_count": 3,
   "metadata": {},
   "outputs": [
    {
     "data": {
      "text/plain": [
       "'bromwell high is a cartoon comedy . it ran at the same time as some other programs about school life  such as  teachers  . my   years in the teaching profession lead me to believe that bromwell high  s satire is much closer to reality than is  teachers  . the scramble to survive financially  the insightful students who can see right through their pathetic teachers  pomp  the pettiness of the whole situation  all remind me of the schools i knew and their students . when i saw the episode in which a student repeatedly tried to burn down the school  i immediately recalled . . . . . . . . . at . . . . . . . . . . high . a classic line inspector i  m here to sack one of your teachers . student welcome to bromwell high . i expect that many adults of my age think that bromwell high is far fetched . what a pity that it isn  t   '"
      ]
     },
     "execution_count": 3,
     "metadata": {},
     "output_type": "execute_result"
    }
   ],
   "source": [
    "#first element in reviews list\n",
    "reviews[0]"
   ]
  },
  {
   "cell_type": "code",
   "execution_count": 4,
   "metadata": {},
   "outputs": [
    {
     "data": {
      "text/plain": [
       "'POSITIVE'"
      ]
     },
     "execution_count": 4,
     "metadata": {},
     "output_type": "execute_result"
    }
   ],
   "source": [
    "#first element in labels list\n",
    "labels[0]"
   ]
  },
  {
   "cell_type": "markdown",
   "metadata": {},
   "source": [
    "### Function to display the label and the corresponding review at ith position and eighty charaters"
   ]
  },
  {
   "cell_type": "code",
   "execution_count": 5,
   "metadata": {},
   "outputs": [],
   "source": [
    "def pretty_print_review_and_label(i):\n",
    "    print(labels[i] + \"\\t:\\t\" + reviews[i][:80] + \"...\")"
   ]
  },
  {
   "cell_type": "code",
   "execution_count": 6,
   "metadata": {},
   "outputs": [
    {
     "name": "stdout",
     "output_type": "stream",
     "text": [
      "labels.txt \t : \t reviews.txt\n",
      "\n",
      "NEGATIVE\t:\tthis movie is terrible but it has some good effects .  ...\n",
      "POSITIVE\t:\tadrian pasdar is excellent is this film . he makes a fascinating woman .  ...\n",
      "NEGATIVE\t:\tcomment this movie is impossible . is terrible  very improbable  bad interpretat...\n",
      "POSITIVE\t:\texcellent episode movie ala pulp fiction .  days   suicides . it doesnt get more...\n",
      "NEGATIVE\t:\tif you haven  t seen this  it  s terrible . it is pure trash . i saw this about ...\n",
      "POSITIVE\t:\tthis schiffer guy is a real genius  the movie is of excellent quality and both e...\n"
     ]
    }
   ],
   "source": [
    "#Viewing the data at various lines:\n",
    "print(\"labels.txt \\t : \\t reviews.txt\\n\")\n",
    "pretty_print_review_and_label(2137)\n",
    "pretty_print_review_and_label(12816)\n",
    "pretty_print_review_and_label(6267)\n",
    "pretty_print_review_and_label(21934)\n",
    "pretty_print_review_and_label(5297)\n",
    "pretty_print_review_and_label(4998)"
   ]
  },
  {
   "cell_type": "code",
   "execution_count": 7,
   "metadata": {},
   "outputs": [],
   "source": [
    "#importing packages\n",
    "from collections import Counter\n",
    "import numpy as np"
   ]
  },
  {
   "cell_type": "markdown",
   "metadata": {},
   "source": [
    "We'll create three Counter objects, one for words from postive reviews, one for words from negative reviews, and one for all the words."
   ]
  },
  {
   "cell_type": "code",
   "execution_count": 8,
   "metadata": {},
   "outputs": [],
   "source": [
    "# Creating three Counter objects to store positive, negative and total counts\n",
    "positive_counts = Counter()\n",
    "negative_counts = Counter()\n",
    "total_counts = Counter()"
   ]
  },
  {
   "cell_type": "markdown",
   "metadata": {},
   "source": [
    "TODO: We will examine all the reviews. For each word in a positive review, we will increase the count for that word in both positive counter and the total words counter; likewise, for each word in a negative review, we will increase the count for that word in both our negative counter and the total words counter."
   ]
  },
  {
   "cell_type": "code",
   "execution_count": 9,
   "metadata": {},
   "outputs": [],
   "source": [
    "# Looping over all the words in all the reviews and increment the counts in the appropriate counter objects\n",
    "for i in range(len(reviews)):\n",
    "    if(labels[i] == 'POSITIVE'):\n",
    "        for word in reviews[i].split(\" \"):\n",
    "            positive_counts[word] += 1\n",
    "            total_counts[word] += 1\n",
    "    else:\n",
    "        for word in reviews[i].split(\" \"):\n",
    "            negative_counts[word] += 1\n",
    "            total_counts[word] += 1"
   ]
  },
  {
   "cell_type": "code",
   "execution_count": 10,
   "metadata": {},
   "outputs": [
    {
     "data": {
      "text/plain": [
       "[('', 550468),\n",
       " ('the', 173324),\n",
       " ('.', 159654),\n",
       " ('and', 89722),\n",
       " ('a', 83688),\n",
       " ('of', 76855),\n",
       " ('to', 66746),\n",
       " ('is', 57245),\n",
       " ('in', 50215),\n",
       " ('br', 49235),\n",
       " ('it', 48025),\n",
       " ('i', 40743),\n",
       " ('that', 35630),\n",
       " ('this', 35080),\n",
       " ('s', 33815),\n",
       " ('as', 26308),\n",
       " ('with', 23247),\n",
       " ('for', 22416),\n",
       " ('was', 21917),\n",
       " ('film', 20937),\n",
       " ('but', 20822),\n",
       " ('movie', 19074),\n",
       " ('his', 17227),\n",
       " ('on', 17008),\n",
       " ('you', 16681),\n",
       " ('he', 16282),\n",
       " ('are', 14807),\n",
       " ('not', 14272),\n",
       " ('t', 13720),\n",
       " ('one', 13655),\n",
       " ('have', 12587),\n",
       " ('be', 12416),\n",
       " ('by', 11997),\n",
       " ('all', 11942),\n",
       " ('who', 11464),\n",
       " ('an', 11294),\n",
       " ('at', 11234),\n",
       " ('from', 10767),\n",
       " ('her', 10474),\n",
       " ('they', 9895),\n",
       " ('has', 9186),\n",
       " ('so', 9154),\n",
       " ('like', 9038),\n",
       " ('about', 8313),\n",
       " ('very', 8305),\n",
       " ('out', 8134),\n",
       " ('there', 8057),\n",
       " ('she', 7779),\n",
       " ('what', 7737),\n",
       " ('or', 7732)]"
      ]
     },
     "execution_count": 10,
     "metadata": {},
     "output_type": "execute_result"
    }
   ],
   "source": [
    "# Examine the counts of 50 most common words in positive reviews\n",
    "positive_counts.most_common()[0:50]"
   ]
  },
  {
   "cell_type": "code",
   "execution_count": 11,
   "metadata": {},
   "outputs": [
    {
     "data": {
      "text/plain": [
       "[('', 561462),\n",
       " ('.', 167538),\n",
       " ('the', 163389),\n",
       " ('a', 79321),\n",
       " ('and', 74385),\n",
       " ('of', 69009),\n",
       " ('to', 68974),\n",
       " ('br', 52637),\n",
       " ('is', 50083),\n",
       " ('it', 48327),\n",
       " ('i', 46880),\n",
       " ('in', 43753),\n",
       " ('this', 40920),\n",
       " ('that', 37615),\n",
       " ('s', 31546),\n",
       " ('was', 26291),\n",
       " ('movie', 24965),\n",
       " ('for', 21927),\n",
       " ('but', 21781),\n",
       " ('with', 20878),\n",
       " ('as', 20625),\n",
       " ('t', 20361),\n",
       " ('film', 19218),\n",
       " ('you', 17549),\n",
       " ('on', 17192),\n",
       " ('not', 16354),\n",
       " ('have', 15144),\n",
       " ('are', 14623),\n",
       " ('be', 14541),\n",
       " ('he', 13856),\n",
       " ('one', 13134),\n",
       " ('they', 13011),\n",
       " ('at', 12279),\n",
       " ('his', 12147),\n",
       " ('all', 12036),\n",
       " ('so', 11463),\n",
       " ('like', 11238),\n",
       " ('there', 10775),\n",
       " ('just', 10619),\n",
       " ('by', 10549),\n",
       " ('or', 10272),\n",
       " ('an', 10266),\n",
       " ('who', 9969),\n",
       " ('from', 9731),\n",
       " ('if', 9518),\n",
       " ('about', 9061),\n",
       " ('out', 8979),\n",
       " ('what', 8422),\n",
       " ('some', 8306),\n",
       " ('no', 8143)]"
      ]
     },
     "execution_count": 11,
     "metadata": {},
     "output_type": "execute_result"
    }
   ],
   "source": [
    "# Examine the counts of 50 most common words in negative reviews\n",
    "negative_counts.most_common()[0:50]"
   ]
  },
  {
   "cell_type": "markdown",
   "metadata": {},
   "source": [
    "As we can see, common words like \"the\" appear very often in both positive and negative reviews. Instead of finding the most common words in positive or negative reviews, what we really want are the words found in positive reviews more often than in negative reviews, and vice versa. To accomplish this, we'll need to calculate the ratios of word usage between positive and negative reviews.\n",
    "\n",
    "TODO: Check all the words we've seen and calculate the ratio of postive to negative uses and store that ratio in pos_neg_ratios.\n",
    "\n",
    "### Approach\n",
    "\n",
    "The positive-to-negative ratio for a given word can be calculated with positive_counts[word] / float(negative_counts[word]+1). Notice the +1 in the denominator – that ensures we don't divide by zero for words that are only seen in positive reviews."
   ]
  },
  {
   "cell_type": "code",
   "execution_count": 12,
   "metadata": {},
   "outputs": [],
   "source": [
    "pos_neg_ratios = Counter()\n",
    "\n",
    "# Calculate the ratios of positive and negative uses of the most common words\n",
    "# Consider words to be \"common\" if they've been used at least 100 times\n",
    "for term,cnt in list(total_counts.most_common()):\n",
    "    if(cnt > 100):\n",
    "        pos_neg_ratio = positive_counts[term] / float(negative_counts[term]+1)\n",
    "        pos_neg_ratios[term] = pos_neg_ratio"
   ]
  },
  {
   "cell_type": "markdown",
   "metadata": {},
   "source": [
    "Examining the ratios we've calculated for a few words:"
   ]
  },
  {
   "cell_type": "code",
   "execution_count": 13,
   "metadata": {},
   "outputs": [
    {
     "name": "stdout",
     "output_type": "stream",
     "text": [
      "Pos-to-neg ratio for 'the' = 1.0607993145235326\n",
      "Pos-to-neg ratio for 'amazing' = 4.022813688212928\n",
      "Pos-to-neg ratio for 'terrible' = 0.17744252873563218\n"
     ]
    }
   ],
   "source": [
    "print(\"Pos-to-neg ratio for 'the' = {}\".format(pos_neg_ratios[\"the\"]))\n",
    "print(\"Pos-to-neg ratio for 'amazing' = {}\".format(pos_neg_ratios[\"amazing\"]))\n",
    "print(\"Pos-to-neg ratio for 'terrible' = {}\".format(pos_neg_ratios[\"terrible\"]))"
   ]
  },
  {
   "cell_type": "markdown",
   "metadata": {},
   "source": [
    "Looking closely at the values we just calculated, we see the following:\n",
    "\n",
    "* Words that we would expect to see more often in positive reviews – like \"amazing\" – have a ratio greater than 1. The more \n",
    "  skewed a word is toward postive, the farther from 1 its positive-to-negative ratio will be.\n",
    "* Words that we would expect to see more often in negative reviews – like \"terrible\" – have positive values that are less than \n",
    "  1 . The more skewed a word is toward negative, the closer to zero its positive-to-negative ratio will be.\n",
    "* Neutral words, which don't really convey any sentiment because we would expect to see them in all sorts of reviews – like \n",
    "  \"the\" – have values very close to 1. A perfectly neutral word – one that was used in exactly the same number of positive \n",
    "  reviews as negative reviews – would be almost exactly 1. The +1 we suggested to add to the denominator slightly biases words   toward negative, but it won't matter because it will be a tiny bias and later we'll be ignoring words that are too close to     neutral anyway.\n",
    "\n",
    "Ok, the ratios tell us which words are used more often in postive or negative reviews, but the specific values we've calculated are a bit difficult to work with. A very positive word like \"amazing\" has a value above 4, whereas a very negative word like \"terrible\" has a value around 0.18. Those values aren't easy to compare for a couple of reasons:\n",
    "\n",
    "* Right now, 1 is considered neutral, but the absolute value of the postive-to-negative rations of very postive words is larger \n",
    "  than the absolute value of the ratios for the very negative words. So there is no way to directly compare two numbers and see   if one word conveys the same magnitude of positive sentiment as another word conveys negative sentiment. So we should center   all the values around netural so the absolute value fro neutral of the postive-to-negative ratio for a word would indicate     how much sentiment (positive or negative) that word conveys.\n",
    "* When comparing absolute values it's easier to do that around zero than one.\n",
    "\n",
    "To fix these issues, we'll convert all of our ratios to new values using logarithms.\n",
    "\n",
    "### TODO: \n",
    "\n",
    "Go through all the ratios we calculated and convert them to logarithms. (i.e. use np.log(ratio))\n",
    "\n",
    "In the end, extremely positive and extremely negative words will have positive-to-negative ratios with similar magnitudes but opposite signs."
   ]
  },
  {
   "cell_type": "code",
   "execution_count": 14,
   "metadata": {},
   "outputs": [],
   "source": [
    "# Convert ratios to logs\n",
    "for word,ratio in pos_neg_ratios.most_common():\n",
    "    pos_neg_ratios[word] = np.log(ratio)"
   ]
  },
  {
   "cell_type": "markdown",
   "metadata": {},
   "source": [
    "The following formulas for the calculation extreme values:\n",
    "\n",
    "* For any postive words, convert the ratio using np.log(ratio)\n",
    "* For any negative words, convert the ratio using -np.log(1/(ratio + 0.01))\n",
    "\n",
    "In case that second equation looks strange, here's what it's doing: First, it divides one by a very small number, which will produce a larger positive number. Then, it takes the log of that, which produces numbers similar to the ones for the postive words. Finally, it negates the values by adding that minus sign up front. The results are extremely positive and extremely negative words having positive-to-negative ratios with similar magnitudes but oppositite signs, just like when we use np.log(ratio)."
   ]
  },
  {
   "cell_type": "code",
   "execution_count": 15,
   "metadata": {},
   "outputs": [
    {
     "name": "stdout",
     "output_type": "stream",
     "text": [
      "Pos-to-neg ratio for 'the' = 0.05902269426102881\n",
      "Pos-to-neg ratio for 'amazing' = 1.3919815802404802\n",
      "Pos-to-neg ratio for 'terrible' = -1.7291085042663878\n"
     ]
    }
   ],
   "source": [
    "#Examining the new ratios we've calculated for the same words from before:\n",
    "print(\"Pos-to-neg ratio for 'the' = {}\".format(pos_neg_ratios[\"the\"]))\n",
    "print(\"Pos-to-neg ratio for 'amazing' = {}\".format(pos_neg_ratios[\"amazing\"]))\n",
    "print(\"Pos-to-neg ratio for 'terrible' = {}\".format(pos_neg_ratios[\"terrible\"]))"
   ]
  },
  {
   "cell_type": "markdown",
   "metadata": {},
   "source": [
    "We can see neutral words with values close to zero. In this case, \"the\" is near zero but slightly positive, so it was probably used in more positive reviews than negative reviews. But look at \"amazing\"'s ratio - it's above 1, showing it is clearly a word with positive sentiment. And \"terrible\" has a similar score, but in the opposite direction, so it's below -1. It's now clear that both of these words are associated with specific, opposing sentiments.\n",
    "\n",
    "The first cell displays the words, ordered by how associated they are with postive reviews. (Notebook will most likely truncate the output so we are taking the first 50 words in the list.)\n",
    "\n",
    "The second cell displays the 50 words most associated with negative reviews by reversing the order of the first list and then looking at the first 30 words. (If we want the second cell to display all the words, ordered by how associated they are with negative reviews, we could just write reversed(pos_neg_ratios.most_common()).)\n",
    "\n",
    "We should continue to see values similar to the earlier ones we checked – neutral words will be close to 0, words will get more positive as their ratios approach and go above 1, and words will get more negative as their ratios approach and go below -1. That's why we decided to use the logs instead of the raw ratios."
   ]
  },
  {
   "cell_type": "code",
   "execution_count": 16,
   "metadata": {},
   "outputs": [
    {
     "data": {
      "text/plain": [
       "[('edie', 4.6913478822291435),\n",
       " ('paulie', 4.07753744390572),\n",
       " ('felix', 3.152736022363656),\n",
       " ('polanski', 2.8233610476132043),\n",
       " ('matthau', 2.80672172860924),\n",
       " ('victoria', 2.681021528714291),\n",
       " ('mildred', 2.6026896854443837),\n",
       " ('gandhi', 2.538973871058276),\n",
       " ('flawless', 2.451005098112319),\n",
       " ('superbly', 2.26002547857525),\n",
       " ('perfection', 2.159484249353372),\n",
       " ('astaire', 2.1400661634962708),\n",
       " ('captures', 2.038619547159581),\n",
       " ('voight', 2.030170492673053),\n",
       " ('wonderfully', 2.0218960560332353),\n",
       " ('powell', 1.978345424808467),\n",
       " ('brosnan', 1.9547990964725592),\n",
       " ('lily', 1.9203768470501485),\n",
       " ('bakshi', 1.9029851043382795),\n",
       " ('lincoln', 1.9014583864844796),\n",
       " ('refreshing', 1.8551812956655511),\n",
       " ('breathtaking', 1.8481124057791867),\n",
       " ('bourne', 1.8478489358790986),\n",
       " ('lemmon', 1.8458266904983307),\n",
       " ('delightful', 1.8002701588959635),\n",
       " ('flynn', 1.7996646487351682),\n",
       " ('andrews', 1.7764919970972666),\n",
       " ('homer', 1.7692866133759964),\n",
       " ('beautifully', 1.7626953362841438),\n",
       " ('soccer', 1.7578579175523736),\n",
       " ('elvira', 1.739703107272002),\n",
       " ('underrated', 1.7197859696029656),\n",
       " ('gripping', 1.7165360479904674),\n",
       " ('superb', 1.7091514458966952),\n",
       " ('delight', 1.6714733033535532),\n",
       " ('welles', 1.667706820558076),\n",
       " ('sadness', 1.663505133704376),\n",
       " ('sinatra', 1.6389967146756448),\n",
       " ('touching', 1.637217476541176),\n",
       " ('timeless', 1.62924053973028),\n",
       " ('macy', 1.6211339521972916),\n",
       " ('unforgettable', 1.6177367152487956),\n",
       " ('favorites', 1.6158688027643908),\n",
       " ('stewart', 1.611998733295774),\n",
       " ('sullivan', 1.6094379124341003),\n",
       " ('extraordinary', 1.6094379124341003),\n",
       " ('hartley', 1.6094379124341003),\n",
       " ('brilliantly', 1.5950491749820008),\n",
       " ('friendship', 1.5677652160335325),\n",
       " ('wonderful', 1.5645425925262093)]"
      ]
     },
     "execution_count": 16,
     "metadata": {},
     "output_type": "execute_result"
    }
   ],
   "source": [
    "# Examine the 50 most common words in positive reviews after logarithm scaling\n",
    "pos_neg_ratios.most_common()[:50]"
   ]
  },
  {
   "cell_type": "code",
   "execution_count": 17,
   "metadata": {},
   "outputs": [
    {
     "data": {
      "text/plain": [
       "[('suck', -1.7525387560747736),\n",
       " ('badly', -1.753626599532611),\n",
       " ('dire', -1.7635885922613588),\n",
       " ('dreadful', -1.7725281073001673),\n",
       " ('tedious', -1.802454758344803),\n",
       " ('insulting', -1.8191584434161694),\n",
       " ('crap', -1.8281271133989299),\n",
       " ('wasted', -1.8382794848629478),\n",
       " ('cardboard', -1.845826690498331),\n",
       " ('stupidity', -1.8827312474337816),\n",
       " ('idiotic', -1.8997481072921507),\n",
       " ('pathetic', -1.9003933102308506),\n",
       " ('amateurish', -1.9095425048844386),\n",
       " ('horrible', -1.9102590939512902),\n",
       " ('unintentional', -1.9148195619852824),\n",
       " ('unconvincing', -1.9156963704588166),\n",
       " ('appalling', -1.927891643552635),\n",
       " ('gadget', -1.9356536488881242),\n",
       " ('uninteresting', -1.9459101490553135),\n",
       " ('godzilla', -1.9568392195875037),\n",
       " ('insult', -1.978345424808467),\n",
       " ('lame', -1.981767458946166),\n",
       " ('uninspired', -1.9832976811269336),\n",
       " ('sucks', -1.987068221548821),\n",
       " ('miserably', -1.9924301646902063),\n",
       " ('boredom', -1.995100393246085),\n",
       " ('existent', -2.0794415416798357),\n",
       " ('remotely', -2.1972245773362196),\n",
       " ('wasting', -2.204604684633842),\n",
       " ('poorly', -2.2207550747464135),\n",
       " ('awful', -2.227194247027435),\n",
       " ('laughable', -2.264363880173848),\n",
       " ('worst', -2.286987896180378),\n",
       " ('lousy', -2.307572634505085),\n",
       " ('drivel', -2.3470368555648795),\n",
       " ('prom', -2.3608540011180215),\n",
       " ('redeeming', -2.3682390632154826),\n",
       " ('atrocious', -2.4259083090260445),\n",
       " ('pointless', -2.4553061800117097),\n",
       " ('horrid', -2.4849066497880004),\n",
       " ('blah', -2.5704288232261625),\n",
       " ('waste', -2.6193845640165536),\n",
       " ('unfunny', -2.6922395950755678),\n",
       " ('incoherent', -2.9368917735310576),\n",
       " ('mst', -2.9502698994772336),\n",
       " ('stinker', -3.2088254890146994),\n",
       " ('unwatchable', -3.258096538021482),\n",
       " ('seagal', -3.644143560272545),\n",
       " ('uwe', -4.624972813284271),\n",
       " ('boll', -4.969813299576001)]"
      ]
     },
     "execution_count": 17,
     "metadata": {},
     "output_type": "execute_result"
    }
   ],
   "source": [
    "# Examine the 50 most common words in positive reviews after logarithm scaling\n",
    "pos_neg_ratios.most_common()[-50:]"
   ]
  },
  {
   "cell_type": "code",
   "execution_count": 18,
   "metadata": {},
   "outputs": [
    {
     "data": {
      "text/plain": [
       "[('boll', -4.969813299576001),\n",
       " ('uwe', -4.624972813284271),\n",
       " ('seagal', -3.644143560272545),\n",
       " ('unwatchable', -3.258096538021482),\n",
       " ('stinker', -3.2088254890146994),\n",
       " ('mst', -2.9502698994772336),\n",
       " ('incoherent', -2.9368917735310576),\n",
       " ('unfunny', -2.6922395950755678),\n",
       " ('waste', -2.6193845640165536),\n",
       " ('blah', -2.5704288232261625),\n",
       " ('horrid', -2.4849066497880004),\n",
       " ('pointless', -2.4553061800117097),\n",
       " ('atrocious', -2.4259083090260445),\n",
       " ('redeeming', -2.3682390632154826),\n",
       " ('prom', -2.3608540011180215),\n",
       " ('drivel', -2.3470368555648795),\n",
       " ('lousy', -2.307572634505085),\n",
       " ('worst', -2.286987896180378),\n",
       " ('laughable', -2.264363880173848),\n",
       " ('awful', -2.227194247027435),\n",
       " ('poorly', -2.2207550747464135),\n",
       " ('wasting', -2.204604684633842),\n",
       " ('remotely', -2.1972245773362196),\n",
       " ('existent', -2.0794415416798357),\n",
       " ('boredom', -1.995100393246085),\n",
       " ('miserably', -1.9924301646902063),\n",
       " ('sucks', -1.987068221548821),\n",
       " ('uninspired', -1.9832976811269336),\n",
       " ('lame', -1.981767458946166),\n",
       " ('insult', -1.978345424808467),\n",
       " ('godzilla', -1.9568392195875037),\n",
       " ('uninteresting', -1.9459101490553135),\n",
       " ('gadget', -1.9356536488881242),\n",
       " ('appalling', -1.927891643552635),\n",
       " ('unconvincing', -1.9156963704588166),\n",
       " ('unintentional', -1.9148195619852824),\n",
       " ('horrible', -1.9102590939512902),\n",
       " ('amateurish', -1.9095425048844386),\n",
       " ('pathetic', -1.9003933102308506),\n",
       " ('idiotic', -1.8997481072921507),\n",
       " ('stupidity', -1.8827312474337816),\n",
       " ('cardboard', -1.845826690498331),\n",
       " ('wasted', -1.8382794848629478),\n",
       " ('crap', -1.8281271133989299),\n",
       " ('insulting', -1.8191584434161694),\n",
       " ('tedious', -1.802454758344803),\n",
       " ('dreadful', -1.7725281073001673),\n",
       " ('dire', -1.7635885922613588),\n",
       " ('badly', -1.753626599532611)]"
      ]
     },
     "execution_count": 18,
     "metadata": {},
     "output_type": "execute_result"
    }
   ],
   "source": [
    "# Examine the 50 most common words in negative reviews after logarithm scaling\n",
    "pos_neg_ratios.most_common()[:-50:-1]\n",
    "\n",
    "\n",
    "# Another approach:\n",
    "#         words most frequently seen in a review with a \"NEGATIVE\" label\n",
    "#         list(reversed(pos_neg_ratios.most_common()))[0:30]"
   ]
  }
 ],
 "metadata": {
  "kernelspec": {
   "display_name": "Python 3",
   "language": "python",
   "name": "python3"
  },
  "language_info": {
   "codemirror_mode": {
    "name": "ipython",
    "version": 3
   },
   "file_extension": ".py",
   "mimetype": "text/x-python",
   "name": "python",
   "nbconvert_exporter": "python",
   "pygments_lexer": "ipython3",
   "version": "3.7.1"
  }
 },
 "nbformat": 4,
 "nbformat_minor": 2
}
